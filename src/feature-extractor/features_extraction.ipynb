{
 "cells": [
  {
   "cell_type": "code",
   "execution_count": 9,
   "metadata": {},
   "outputs": [],
   "source": [
    "from extractor import Extractor\n",
    "import pandas as pd\n",
    "import matplotlib.pyplot as plt\n",
    "import seaborn as sns"
   ]
  },
  {
   "cell_type": "code",
   "execution_count": 10,
   "metadata": {},
   "outputs": [],
   "source": [
    "df = pd.read_csv(\"/Users/apotekhin/repositories/literary-predictor/src/rating-scraper/evaluated_texts.csv\")"
   ]
  },
  {
   "cell_type": "code",
   "execution_count": 11,
   "metadata": {},
   "outputs": [
    {
     "data": {
      "text/plain": "   index                                         title  \\\n0      0                  Человек для особых поручений   \n1      1                        Закон военного счастья   \n2      2                                Потерянный бог   \n3      3                            Звездный разведчик   \n4      4  Путешествие из Петербурга в Москву (сборник)   \n\n                          author litres mark litres votes livelib mark  \\\n0                 Антон Демченко         4.6          137          4.5   \n1                  Николай Басов         4.3           14          4.3   \n2                Милослав Князев         4.3          225          3.8   \n3                 Владимир Лосев         4.0            8          4.6   \n4   Александр Николаевич Радищев         4.2            9          3.7   \n\n  livelib votes                                               path  \n0             7  /Users/apotekhin/repositories/literary-predict...  \n1            16  /Users/apotekhin/repositories/literary-predict...  \n2            80  /Users/apotekhin/repositories/literary-predict...  \n3             5  /Users/apotekhin/repositories/literary-predict...  \n4            59  /Users/apotekhin/repositories/literary-predict...  ",
      "text/html": "<div>\n<style scoped>\n    .dataframe tbody tr th:only-of-type {\n        vertical-align: middle;\n    }\n\n    .dataframe tbody tr th {\n        vertical-align: top;\n    }\n\n    .dataframe thead th {\n        text-align: right;\n    }\n</style>\n<table border=\"1\" class=\"dataframe\">\n  <thead>\n    <tr style=\"text-align: right;\">\n      <th></th>\n      <th>index</th>\n      <th>title</th>\n      <th>author</th>\n      <th>litres mark</th>\n      <th>litres votes</th>\n      <th>livelib mark</th>\n      <th>livelib votes</th>\n      <th>path</th>\n    </tr>\n  </thead>\n  <tbody>\n    <tr>\n      <th>0</th>\n      <td>0</td>\n      <td>Человек для особых поручений</td>\n      <td>Антон Демченко</td>\n      <td>4.6</td>\n      <td>137</td>\n      <td>4.5</td>\n      <td>7</td>\n      <td>/Users/apotekhin/repositories/literary-predict...</td>\n    </tr>\n    <tr>\n      <th>1</th>\n      <td>1</td>\n      <td>Закон военного счастья</td>\n      <td>Николай Басов</td>\n      <td>4.3</td>\n      <td>14</td>\n      <td>4.3</td>\n      <td>16</td>\n      <td>/Users/apotekhin/repositories/literary-predict...</td>\n    </tr>\n    <tr>\n      <th>2</th>\n      <td>2</td>\n      <td>Потерянный бог</td>\n      <td>Милослав Князев</td>\n      <td>4.3</td>\n      <td>225</td>\n      <td>3.8</td>\n      <td>80</td>\n      <td>/Users/apotekhin/repositories/literary-predict...</td>\n    </tr>\n    <tr>\n      <th>3</th>\n      <td>3</td>\n      <td>Звездный разведчик</td>\n      <td>Владимир Лосев</td>\n      <td>4.0</td>\n      <td>8</td>\n      <td>4.6</td>\n      <td>5</td>\n      <td>/Users/apotekhin/repositories/literary-predict...</td>\n    </tr>\n    <tr>\n      <th>4</th>\n      <td>4</td>\n      <td>Путешествие из Петербурга в Москву (сборник)</td>\n      <td>Александр Николаевич Радищев</td>\n      <td>4.2</td>\n      <td>9</td>\n      <td>3.7</td>\n      <td>59</td>\n      <td>/Users/apotekhin/repositories/literary-predict...</td>\n    </tr>\n  </tbody>\n</table>\n</div>"
     },
     "execution_count": 11,
     "metadata": {},
     "output_type": "execute_result"
    }
   ],
   "source": [
    "df.head()"
   ]
  },
  {
   "cell_type": "code",
   "execution_count": 4,
   "metadata": {},
   "outputs": [
    {
     "name": "stderr",
     "output_type": "stream",
     "text": [
      "100%|██████████| 1000/1000 [00:41<00:00, 24.10it/s]\n",
      "100%|██████████| 1000/1000 [00:42<00:00, 23.76it/s]\n",
      "100%|██████████| 1000/1000 [00:37<00:00, 26.33it/s]\n",
      "100%|██████████| 1000/1000 [00:38<00:00, 25.73it/s]\n",
      "100%|██████████| 1000/1000 [00:40<00:00, 24.70it/s]\n",
      "100%|██████████| 1000/1000 [00:39<00:00, 25.09it/s]\n",
      "100%|██████████| 1000/1000 [00:38<00:00, 26.18it/s]\n",
      "100%|██████████| 1000/1000 [00:37<00:00, 26.69it/s]\n"
     ]
    }
   ],
   "source": [
    "extr = Extractor() \n",
    "features = []\n",
    "for i in range(5):\n",
    "    curr_text = extr.get_text(df['path'][i])\n",
    "    features.append(extr.extract_all(curr_text, cut_edge=True))"
   ]
  },
  {
   "cell_type": "code",
   "execution_count": 5,
   "metadata": {},
   "outputs": [],
   "source": [
    "features_df = pd.DataFrame(features)"
   ]
  },
  {
   "cell_type": "code",
   "execution_count": 6,
   "metadata": {},
   "outputs": [
    {
     "data": {
      "text/plain": "   avg_word_len  avg_sent_len  avg_words_per_par  comma_freq  colon_freq  \\\n0      5.278017     11.145641          46.340415  115.793065    0.656076   \n1      5.226791     11.951138          27.534179  111.716260    2.164054   \n2      5.243787      9.582977          33.155987   84.489010    0.993506   \n3      5.093497     10.929166          23.007612   94.761575    1.450793   \n4      5.376013     17.123849          17.553258  111.553041    3.783528   \n\n   dash_freq  A1 voc  A2 voc  B1 voc  B2 voc  ...       TTR   TTR-root  \\\n0  27.423983    0.61    0.12    0.10    0.07  ...  0.236054  70.594484   \n1  37.285681    0.60    0.11    0.12    0.07  ...  0.123009  77.086362   \n2  23.198886    0.64    0.13    0.11    0.05  ...  0.188745  52.931308   \n3  30.933745    0.66    0.13    0.08    0.05  ...  0.149964  50.151771   \n4   0.904601    0.56    0.11    0.10    0.09  ...  0.253159  84.745904   \n\n    TTR-log  TTR-corrected   TTR-hdd    TTR-mtld  FKD-oborneva  FRE-oborneva  \\\n0  0.873375      49.917838  0.927142  352.845557      8.640586     58.848713   \n1  0.837317      54.508289  0.930091  297.188920      8.832776     59.340898   \n2  0.852089      37.428087  0.925512  339.327454      7.820838     61.186327   \n3  0.836784      35.462657  0.926137  262.425594      7.696635     65.129562   \n4  0.881847      59.924404  0.939010  333.244111     12.121119     47.614338   \n\n   FKD-soloviev  FRE-soloviev  \n0      4.836289     92.652356  \n1      4.982132     91.536827  \n2      4.247623     96.890893  \n3      4.185448     97.112837  \n4      7.325825     74.809435  \n\n[5 rows x 23 columns]",
      "text/html": "<div>\n<style scoped>\n    .dataframe tbody tr th:only-of-type {\n        vertical-align: middle;\n    }\n\n    .dataframe tbody tr th {\n        vertical-align: top;\n    }\n\n    .dataframe thead th {\n        text-align: right;\n    }\n</style>\n<table border=\"1\" class=\"dataframe\">\n  <thead>\n    <tr style=\"text-align: right;\">\n      <th></th>\n      <th>avg_word_len</th>\n      <th>avg_sent_len</th>\n      <th>avg_words_per_par</th>\n      <th>comma_freq</th>\n      <th>colon_freq</th>\n      <th>dash_freq</th>\n      <th>A1 voc</th>\n      <th>A2 voc</th>\n      <th>B1 voc</th>\n      <th>B2 voc</th>\n      <th>...</th>\n      <th>TTR</th>\n      <th>TTR-root</th>\n      <th>TTR-log</th>\n      <th>TTR-corrected</th>\n      <th>TTR-hdd</th>\n      <th>TTR-mtld</th>\n      <th>FKD-oborneva</th>\n      <th>FRE-oborneva</th>\n      <th>FKD-soloviev</th>\n      <th>FRE-soloviev</th>\n    </tr>\n  </thead>\n  <tbody>\n    <tr>\n      <th>0</th>\n      <td>5.278017</td>\n      <td>11.145641</td>\n      <td>46.340415</td>\n      <td>115.793065</td>\n      <td>0.656076</td>\n      <td>27.423983</td>\n      <td>0.61</td>\n      <td>0.12</td>\n      <td>0.10</td>\n      <td>0.07</td>\n      <td>...</td>\n      <td>0.236054</td>\n      <td>70.594484</td>\n      <td>0.873375</td>\n      <td>49.917838</td>\n      <td>0.927142</td>\n      <td>352.845557</td>\n      <td>8.640586</td>\n      <td>58.848713</td>\n      <td>4.836289</td>\n      <td>92.652356</td>\n    </tr>\n    <tr>\n      <th>1</th>\n      <td>5.226791</td>\n      <td>11.951138</td>\n      <td>27.534179</td>\n      <td>111.716260</td>\n      <td>2.164054</td>\n      <td>37.285681</td>\n      <td>0.60</td>\n      <td>0.11</td>\n      <td>0.12</td>\n      <td>0.07</td>\n      <td>...</td>\n      <td>0.123009</td>\n      <td>77.086362</td>\n      <td>0.837317</td>\n      <td>54.508289</td>\n      <td>0.930091</td>\n      <td>297.188920</td>\n      <td>8.832776</td>\n      <td>59.340898</td>\n      <td>4.982132</td>\n      <td>91.536827</td>\n    </tr>\n    <tr>\n      <th>2</th>\n      <td>5.243787</td>\n      <td>9.582977</td>\n      <td>33.155987</td>\n      <td>84.489010</td>\n      <td>0.993506</td>\n      <td>23.198886</td>\n      <td>0.64</td>\n      <td>0.13</td>\n      <td>0.11</td>\n      <td>0.05</td>\n      <td>...</td>\n      <td>0.188745</td>\n      <td>52.931308</td>\n      <td>0.852089</td>\n      <td>37.428087</td>\n      <td>0.925512</td>\n      <td>339.327454</td>\n      <td>7.820838</td>\n      <td>61.186327</td>\n      <td>4.247623</td>\n      <td>96.890893</td>\n    </tr>\n    <tr>\n      <th>3</th>\n      <td>5.093497</td>\n      <td>10.929166</td>\n      <td>23.007612</td>\n      <td>94.761575</td>\n      <td>1.450793</td>\n      <td>30.933745</td>\n      <td>0.66</td>\n      <td>0.13</td>\n      <td>0.08</td>\n      <td>0.05</td>\n      <td>...</td>\n      <td>0.149964</td>\n      <td>50.151771</td>\n      <td>0.836784</td>\n      <td>35.462657</td>\n      <td>0.926137</td>\n      <td>262.425594</td>\n      <td>7.696635</td>\n      <td>65.129562</td>\n      <td>4.185448</td>\n      <td>97.112837</td>\n    </tr>\n    <tr>\n      <th>4</th>\n      <td>5.376013</td>\n      <td>17.123849</td>\n      <td>17.553258</td>\n      <td>111.553041</td>\n      <td>3.783528</td>\n      <td>0.904601</td>\n      <td>0.56</td>\n      <td>0.11</td>\n      <td>0.10</td>\n      <td>0.09</td>\n      <td>...</td>\n      <td>0.253159</td>\n      <td>84.745904</td>\n      <td>0.881847</td>\n      <td>59.924404</td>\n      <td>0.939010</td>\n      <td>333.244111</td>\n      <td>12.121119</td>\n      <td>47.614338</td>\n      <td>7.325825</td>\n      <td>74.809435</td>\n    </tr>\n  </tbody>\n</table>\n<p>5 rows × 23 columns</p>\n</div>"
     },
     "execution_count": 6,
     "metadata": {},
     "output_type": "execute_result"
    }
   ],
   "source": [
    "features_df"
   ]
  },
  {
   "cell_type": "code",
   "execution_count": 7,
   "metadata": {},
   "outputs": [],
   "source": [
    "new_df = pd.merge(df, features_df, left_index=True, right_index=True)\n"
   ]
  },
  {
   "cell_type": "code",
   "execution_count": 8,
   "metadata": {},
   "outputs": [
    {
     "data": {
      "text/plain": "   index                                         title  \\\n0      0                  Человек для особых поручений   \n1      1                        Закон военного счастья   \n2      2                                Потерянный бог   \n3      3                            Звездный разведчик   \n4      4  Путешествие из Петербурга в Москву (сборник)   \n\n                          author litres mark litres votes livelib mark  \\\n0                 Антон Демченко         4.6          137          4.5   \n1                  Николай Басов         4.3           14          4.3   \n2                Милослав Князев         4.3          225          3.8   \n3                 Владимир Лосев         4.0            8          4.6   \n4   Александр Николаевич Радищев         4.2            9          3.7   \n\n  livelib votes  avg_word_len  avg_sent_len  avg_words_per_par  ...       TTR  \\\n0             7      5.278017     11.145641          46.340415  ...  0.236054   \n1            16      5.226791     11.951138          27.534179  ...  0.123009   \n2            80      5.243787      9.582977          33.155987  ...  0.188745   \n3             5      5.093497     10.929166          23.007612  ...  0.149964   \n4            59      5.376013     17.123849          17.553258  ...  0.253159   \n\n    TTR-root   TTR-log  TTR-corrected   TTR-hdd    TTR-mtld  FKD-oborneva  \\\n0  70.594484  0.873375      49.917838  0.927142  352.845557      8.640586   \n1  77.086362  0.837317      54.508289  0.930091  297.188920      8.832776   \n2  52.931308  0.852089      37.428087  0.925512  339.327454      7.820838   \n3  50.151771  0.836784      35.462657  0.926137  262.425594      7.696635   \n4  84.745904  0.881847      59.924404  0.939010  333.244111     12.121119   \n\n   FRE-oborneva  FKD-soloviev  FRE-soloviev  \n0     58.848713      4.836289     92.652356  \n1     59.340898      4.982132     91.536827  \n2     61.186327      4.247623     96.890893  \n3     65.129562      4.185448     97.112837  \n4     47.614338      7.325825     74.809435  \n\n[5 rows x 30 columns]",
      "text/html": "<div>\n<style scoped>\n    .dataframe tbody tr th:only-of-type {\n        vertical-align: middle;\n    }\n\n    .dataframe tbody tr th {\n        vertical-align: top;\n    }\n\n    .dataframe thead th {\n        text-align: right;\n    }\n</style>\n<table border=\"1\" class=\"dataframe\">\n  <thead>\n    <tr style=\"text-align: right;\">\n      <th></th>\n      <th>index</th>\n      <th>title</th>\n      <th>author</th>\n      <th>litres mark</th>\n      <th>litres votes</th>\n      <th>livelib mark</th>\n      <th>livelib votes</th>\n      <th>avg_word_len</th>\n      <th>avg_sent_len</th>\n      <th>avg_words_per_par</th>\n      <th>...</th>\n      <th>TTR</th>\n      <th>TTR-root</th>\n      <th>TTR-log</th>\n      <th>TTR-corrected</th>\n      <th>TTR-hdd</th>\n      <th>TTR-mtld</th>\n      <th>FKD-oborneva</th>\n      <th>FRE-oborneva</th>\n      <th>FKD-soloviev</th>\n      <th>FRE-soloviev</th>\n    </tr>\n  </thead>\n  <tbody>\n    <tr>\n      <th>0</th>\n      <td>0</td>\n      <td>Человек для особых поручений</td>\n      <td>Антон Демченко</td>\n      <td>4.6</td>\n      <td>137</td>\n      <td>4.5</td>\n      <td>7</td>\n      <td>5.278017</td>\n      <td>11.145641</td>\n      <td>46.340415</td>\n      <td>...</td>\n      <td>0.236054</td>\n      <td>70.594484</td>\n      <td>0.873375</td>\n      <td>49.917838</td>\n      <td>0.927142</td>\n      <td>352.845557</td>\n      <td>8.640586</td>\n      <td>58.848713</td>\n      <td>4.836289</td>\n      <td>92.652356</td>\n    </tr>\n    <tr>\n      <th>1</th>\n      <td>1</td>\n      <td>Закон военного счастья</td>\n      <td>Николай Басов</td>\n      <td>4.3</td>\n      <td>14</td>\n      <td>4.3</td>\n      <td>16</td>\n      <td>5.226791</td>\n      <td>11.951138</td>\n      <td>27.534179</td>\n      <td>...</td>\n      <td>0.123009</td>\n      <td>77.086362</td>\n      <td>0.837317</td>\n      <td>54.508289</td>\n      <td>0.930091</td>\n      <td>297.188920</td>\n      <td>8.832776</td>\n      <td>59.340898</td>\n      <td>4.982132</td>\n      <td>91.536827</td>\n    </tr>\n    <tr>\n      <th>2</th>\n      <td>2</td>\n      <td>Потерянный бог</td>\n      <td>Милослав Князев</td>\n      <td>4.3</td>\n      <td>225</td>\n      <td>3.8</td>\n      <td>80</td>\n      <td>5.243787</td>\n      <td>9.582977</td>\n      <td>33.155987</td>\n      <td>...</td>\n      <td>0.188745</td>\n      <td>52.931308</td>\n      <td>0.852089</td>\n      <td>37.428087</td>\n      <td>0.925512</td>\n      <td>339.327454</td>\n      <td>7.820838</td>\n      <td>61.186327</td>\n      <td>4.247623</td>\n      <td>96.890893</td>\n    </tr>\n    <tr>\n      <th>3</th>\n      <td>3</td>\n      <td>Звездный разведчик</td>\n      <td>Владимир Лосев</td>\n      <td>4.0</td>\n      <td>8</td>\n      <td>4.6</td>\n      <td>5</td>\n      <td>5.093497</td>\n      <td>10.929166</td>\n      <td>23.007612</td>\n      <td>...</td>\n      <td>0.149964</td>\n      <td>50.151771</td>\n      <td>0.836784</td>\n      <td>35.462657</td>\n      <td>0.926137</td>\n      <td>262.425594</td>\n      <td>7.696635</td>\n      <td>65.129562</td>\n      <td>4.185448</td>\n      <td>97.112837</td>\n    </tr>\n    <tr>\n      <th>4</th>\n      <td>4</td>\n      <td>Путешествие из Петербурга в Москву (сборник)</td>\n      <td>Александр Николаевич Радищев</td>\n      <td>4.2</td>\n      <td>9</td>\n      <td>3.7</td>\n      <td>59</td>\n      <td>5.376013</td>\n      <td>17.123849</td>\n      <td>17.553258</td>\n      <td>...</td>\n      <td>0.253159</td>\n      <td>84.745904</td>\n      <td>0.881847</td>\n      <td>59.924404</td>\n      <td>0.939010</td>\n      <td>333.244111</td>\n      <td>12.121119</td>\n      <td>47.614338</td>\n      <td>7.325825</td>\n      <td>74.809435</td>\n    </tr>\n  </tbody>\n</table>\n<p>5 rows × 30 columns</p>\n</div>"
     },
     "execution_count": 8,
     "metadata": {},
     "output_type": "execute_result"
    }
   ],
   "source": [
    "new_df.drop('path', axis=1)"
   ]
  }
 ],
 "metadata": {
  "interpreter": {
   "hash": "aee8b7b246df8f9039afb4144a1f6fd8d2ca17a180786b69acc140d282b71a49"
  },
  "kernelspec": {
   "display_name": "Python 3.9.7 64-bit",
   "language": "python",
   "name": "python3"
  },
  "language_info": {
   "codemirror_mode": {
    "name": "ipython",
    "version": 3
   },
   "file_extension": ".py",
   "mimetype": "text/x-python",
   "name": "python",
   "nbconvert_exporter": "python",
   "pygments_lexer": "ipython3",
   "version": "3.9.7"
  },
  "orig_nbformat": 4
 },
 "nbformat": 4,
 "nbformat_minor": 2
}
